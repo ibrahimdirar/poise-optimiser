{
 "cells": [
  {
   "cell_type": "code",
   "execution_count": 29,
   "metadata": {},
   "outputs": [],
   "source": [
    "from dataclasses import dataclass\n",
    "import pulp\n",
    "import pandas as pd\n",
    "import numpy as np\n",
    "\n",
    "@dataclass\n",
    "class Armor:\n",
    "    poise: int\n",
    "    weight: float\n",
    "    name: str\n",
    "    location: str = None\n",
    "    _var = None\n",
    "\n",
    "    @property\n",
    "    def var(self):\n",
    "        if self._var is None:\n",
    "            self._var = pulp.LpVariable(self.name, 0, 1, pulp.LpInteger)\n",
    "        return self._var\n",
    "\n",
    "\n",
    "@dataclass\n",
    "class ArmorSet:\n",
    "    poise: int = 0\n",
    "    weight: float = 0\n",
    "    armor: Armor = None\n",
    "    gauntlet: Armor = None\n",
    "    greave: Armor = None\n",
    "\n",
    "\n",
    "\n",
    "def get_poise(armors):\n",
    "    return [armor.poise * armor.var for armor in armors]\n",
    "\n",
    "def get_weight(armors):\n",
    "    return [armor.weight * armor.var for armor in armors]\n",
    "\n",
    "def numeric_coercions(df, column):\n",
    "    return df[column].apply(lambda x: x if x.isnumeric() else 0.0)\n",
    "    \n",
    "\n",
    "def get_armors(armor_type):\n",
    "    df = pd.read_pickle(f\"{armor_type}.pkl\")\n",
    "    df[\"Poise\"] = pd.to_numeric(df[\"Poise\"], errors='coerce')\n",
    "    df[\"Wgt.\"] = pd.to_numeric(df[\"Wgt.\"], errors='coerce')\n",
    "    df.fillna(0, inplace=True)\n",
    "    return [Armor(name = armor[\"Name\"], poise=armor[\"Poise\"], weight=armor[\"Wgt.\"], location=armor[\"How to Acquire\"] ) for armor in df.to_dict(orient='records')]\n",
    "\n"
   ]
  },
  {
   "cell_type": "code",
   "execution_count": 30,
   "metadata": {},
   "outputs": [
    {
     "name": "stdout",
     "output_type": "stream",
     "text": [
      "Welcome to the CBC MILP Solver \n",
      "Version: 2.10.3 \n",
      "Build Date: Dec 15 2019 \n",
      "\n",
      "command line - /opt/homebrew/lib/python3.10/site-packages/pulp/apis/../solverdir/cbc/osx/64/cbc /var/folders/3q/_dxdmqw96_x981j828nlpw9r0000gn/T/1340e5c3cb9a47039fd36b1e251c3d3e-pulp.mps max timeMode elapsed branch printingOptions all solution /var/folders/3q/_dxdmqw96_x981j828nlpw9r0000gn/T/1340e5c3cb9a47039fd36b1e251c3d3e-pulp.sol (default strategy 1)\n",
      "At line 2 NAME          MODEL\n",
      "At line 3 ROWS\n",
      "At line 10 COLUMNS\n",
      "Bad image at line 344 <     X0000067  OBJ        nan >\n",
      "Bad image at line 1094 <     X0000219  OBJ        nan >\n",
      "Bad image at line 1099 <     X0000220  OBJ        nan >\n",
      "Bad image at line 1203 <     X0000241  C0000004   nan >\n",
      "Bad image at line 1204 <     X0000241  OBJ        nan >\n",
      "At line 1256 RHS\n",
      "Bad image at line 1261 <     RHS       C0000004   nan >\n",
      "At line 1262 BOUNDS\n",
      "At line 1515 ENDATA\n",
      "Problem MODEL has 5 rows, 252 columns and 503 elements\n",
      "Coin0008I MODEL read with 6 errors\n",
      "There were 6 errors on input\n",
      "Option for timeMode changed from cpu to elapsed\n",
      "** Current model not valid\n",
      "Option for printingOptions changed from normal to all\n",
      "** Current model not valid\n",
      "No match for /var/folders/3q/_dxdmqw96_x981j828nlpw9r0000gn/T/1340e5c3cb9a47039fd36b1e251c3d3e-pulp.sol - ? for list of commands\n",
      "Total time (CPU seconds):       0.00   (Wallclock seconds):       0.01\n",
      "\n"
     ]
    },
    {
     "ename": "PulpSolverError",
     "evalue": "Pulp: Error while executing /opt/homebrew/lib/python3.10/site-packages/pulp/apis/../solverdir/cbc/osx/64/cbc",
     "output_type": "error",
     "traceback": [
      "\u001b[0;31m---------------------------------------------------------------------------\u001b[0m",
      "\u001b[0;31mPulpSolverError\u001b[0m                           Traceback (most recent call last)",
      "\u001b[0;32m/var/folders/3q/_dxdmqw96_x981j828nlpw9r0000gn/T/ipykernel_65125/2496339654.py\u001b[0m in \u001b[0;36m<module>\u001b[0;34m\u001b[0m\n\u001b[1;32m     20\u001b[0m \u001b[0;34m\u001b[0m\u001b[0m\n\u001b[1;32m     21\u001b[0m \u001b[0;34m\u001b[0m\u001b[0m\n\u001b[0;32m---> 22\u001b[0;31m \u001b[0mstatus\u001b[0m \u001b[0;34m=\u001b[0m \u001b[0mprob\u001b[0m\u001b[0;34m.\u001b[0m\u001b[0msolve\u001b[0m\u001b[0;34m(\u001b[0m\u001b[0;34m)\u001b[0m\u001b[0;34m\u001b[0m\u001b[0;34m\u001b[0m\u001b[0m\n\u001b[0m\u001b[1;32m     23\u001b[0m \u001b[0;34m\u001b[0m\u001b[0m\n\u001b[1;32m     24\u001b[0m \u001b[0mprint\u001b[0m\u001b[0;34m(\u001b[0m\u001b[0;34m\"| Name | Poise|  Weight |\"\u001b[0m\u001b[0;34m)\u001b[0m\u001b[0;34m\u001b[0m\u001b[0;34m\u001b[0m\u001b[0m\n",
      "\u001b[0;32m/opt/homebrew/lib/python3.10/site-packages/pulp/pulp.py\u001b[0m in \u001b[0;36msolve\u001b[0;34m(self, solver, **kwargs)\u001b[0m\n\u001b[1;32m   1911\u001b[0m         \u001b[0;31m# time it\u001b[0m\u001b[0;34m\u001b[0m\u001b[0;34m\u001b[0m\u001b[0m\n\u001b[1;32m   1912\u001b[0m         \u001b[0mself\u001b[0m\u001b[0;34m.\u001b[0m\u001b[0mstartClock\u001b[0m\u001b[0;34m(\u001b[0m\u001b[0;34m)\u001b[0m\u001b[0;34m\u001b[0m\u001b[0;34m\u001b[0m\u001b[0m\n\u001b[0;32m-> 1913\u001b[0;31m         \u001b[0mstatus\u001b[0m \u001b[0;34m=\u001b[0m \u001b[0msolver\u001b[0m\u001b[0;34m.\u001b[0m\u001b[0mactualSolve\u001b[0m\u001b[0;34m(\u001b[0m\u001b[0mself\u001b[0m\u001b[0;34m,\u001b[0m \u001b[0;34m**\u001b[0m\u001b[0mkwargs\u001b[0m\u001b[0;34m)\u001b[0m\u001b[0;34m\u001b[0m\u001b[0;34m\u001b[0m\u001b[0m\n\u001b[0m\u001b[1;32m   1914\u001b[0m         \u001b[0mself\u001b[0m\u001b[0;34m.\u001b[0m\u001b[0mstopClock\u001b[0m\u001b[0;34m(\u001b[0m\u001b[0;34m)\u001b[0m\u001b[0;34m\u001b[0m\u001b[0;34m\u001b[0m\u001b[0m\n\u001b[1;32m   1915\u001b[0m         \u001b[0mself\u001b[0m\u001b[0;34m.\u001b[0m\u001b[0mrestoreObjective\u001b[0m\u001b[0;34m(\u001b[0m\u001b[0mwasNone\u001b[0m\u001b[0;34m,\u001b[0m \u001b[0mdummyVar\u001b[0m\u001b[0;34m)\u001b[0m\u001b[0;34m\u001b[0m\u001b[0;34m\u001b[0m\u001b[0m\n",
      "\u001b[0;32m/opt/homebrew/lib/python3.10/site-packages/pulp/apis/coin_api.py\u001b[0m in \u001b[0;36mactualSolve\u001b[0;34m(self, lp, **kwargs)\u001b[0m\n\u001b[1;32m    135\u001b[0m     \u001b[0;32mdef\u001b[0m \u001b[0mactualSolve\u001b[0m\u001b[0;34m(\u001b[0m\u001b[0mself\u001b[0m\u001b[0;34m,\u001b[0m \u001b[0mlp\u001b[0m\u001b[0;34m,\u001b[0m \u001b[0;34m**\u001b[0m\u001b[0mkwargs\u001b[0m\u001b[0;34m)\u001b[0m\u001b[0;34m:\u001b[0m\u001b[0;34m\u001b[0m\u001b[0;34m\u001b[0m\u001b[0m\n\u001b[1;32m    136\u001b[0m         \u001b[0;34m\"\"\"Solve a well formulated lp problem\"\"\"\u001b[0m\u001b[0;34m\u001b[0m\u001b[0;34m\u001b[0m\u001b[0m\n\u001b[0;32m--> 137\u001b[0;31m         \u001b[0;32mreturn\u001b[0m \u001b[0mself\u001b[0m\u001b[0;34m.\u001b[0m\u001b[0msolve_CBC\u001b[0m\u001b[0;34m(\u001b[0m\u001b[0mlp\u001b[0m\u001b[0;34m,\u001b[0m \u001b[0;34m**\u001b[0m\u001b[0mkwargs\u001b[0m\u001b[0;34m)\u001b[0m\u001b[0;34m\u001b[0m\u001b[0;34m\u001b[0m\u001b[0m\n\u001b[0m\u001b[1;32m    138\u001b[0m \u001b[0;34m\u001b[0m\u001b[0m\n\u001b[1;32m    139\u001b[0m     \u001b[0;32mdef\u001b[0m \u001b[0mavailable\u001b[0m\u001b[0;34m(\u001b[0m\u001b[0mself\u001b[0m\u001b[0;34m)\u001b[0m\u001b[0;34m:\u001b[0m\u001b[0;34m\u001b[0m\u001b[0;34m\u001b[0m\u001b[0m\n",
      "\u001b[0;32m/opt/homebrew/lib/python3.10/site-packages/pulp/apis/coin_api.py\u001b[0m in \u001b[0;36msolve_CBC\u001b[0;34m(self, lp, use_mps)\u001b[0m\n\u001b[1;32m    203\u001b[0m             \u001b[0mpipe\u001b[0m\u001b[0;34m.\u001b[0m\u001b[0mclose\u001b[0m\u001b[0;34m(\u001b[0m\u001b[0;34m)\u001b[0m\u001b[0;34m\u001b[0m\u001b[0;34m\u001b[0m\u001b[0m\n\u001b[1;32m    204\u001b[0m         \u001b[0;32mif\u001b[0m \u001b[0;32mnot\u001b[0m \u001b[0mos\u001b[0m\u001b[0;34m.\u001b[0m\u001b[0mpath\u001b[0m\u001b[0;34m.\u001b[0m\u001b[0mexists\u001b[0m\u001b[0;34m(\u001b[0m\u001b[0mtmpSol\u001b[0m\u001b[0;34m)\u001b[0m\u001b[0;34m:\u001b[0m\u001b[0;34m\u001b[0m\u001b[0;34m\u001b[0m\u001b[0m\n\u001b[0;32m--> 205\u001b[0;31m             \u001b[0;32mraise\u001b[0m \u001b[0mPulpSolverError\u001b[0m\u001b[0;34m(\u001b[0m\u001b[0;34m\"Pulp: Error while executing \"\u001b[0m \u001b[0;34m+\u001b[0m \u001b[0mself\u001b[0m\u001b[0;34m.\u001b[0m\u001b[0mpath\u001b[0m\u001b[0;34m)\u001b[0m\u001b[0;34m\u001b[0m\u001b[0;34m\u001b[0m\u001b[0m\n\u001b[0m\u001b[1;32m    206\u001b[0m         (\n\u001b[1;32m    207\u001b[0m             \u001b[0mstatus\u001b[0m\u001b[0;34m,\u001b[0m\u001b[0;34m\u001b[0m\u001b[0;34m\u001b[0m\u001b[0m\n",
      "\u001b[0;31mPulpSolverError\u001b[0m: Pulp: Error while executing /opt/homebrew/lib/python3.10/site-packages/pulp/apis/../solverdir/cbc/osx/64/cbc"
     ]
    }
   ],
   "source": [
    "weight_limit = 21.6\n",
    "\n",
    "prob = pulp.LpProblem(\"myProblem\", pulp.LpMaximize)\n",
    "\n",
    "armor_types = [\"head\", \"chest\", \"arms\", \"legs\"]\n",
    "\n",
    "typed_armor_lists = [get_armors(armor_type) for armor_type in armor_types]\n",
    "armors = sum(typed_armor_lists, [])\n",
    "\n",
    "# Only one of each piece\n",
    "for armor_list in typed_armor_lists:\n",
    "    prob += sum([a.var for a in armor_list]) <= 1.0\n",
    "\n",
    "# Maximum Weigth\n",
    "weight = sum(get_weight(armors))\n",
    "prob += weight <= weight_limit\n",
    "\n",
    "poise = sum(get_poise(armors))\n",
    "prob += poise\n",
    "\n",
    "\n",
    "status = prob.solve()\n",
    "\n",
    "print(\"| Name | Poise|  Weight |\")\n",
    "print(\"|:-----|------:|------:|\")\n",
    "\n",
    "for a in armors:\n",
    "    if pulp.value(a.var) > 0:\n",
    "        print(\"|\", a.name, \"|\", a.poise, \"|\", a.weight, \"|\")\n",
    "\n",
    "print(\"| Total | \", pulp.value(poise), \"|\", pulp.value(weight), \"|\")\n"
   ]
  },
  {
   "cell_type": "code",
   "execution_count": null,
   "metadata": {},
   "outputs": [],
   "source": []
  }
 ],
 "metadata": {
  "interpreter": {
   "hash": "949777d72b0d2535278d3dc13498b2535136f6dfe0678499012e853ee9abcab1"
  },
  "kernelspec": {
   "display_name": "Python 3.10.0 64-bit",
   "language": "python",
   "name": "python3"
  },
  "language_info": {
   "codemirror_mode": {
    "name": "ipython",
    "version": 3
   },
   "file_extension": ".py",
   "mimetype": "text/x-python",
   "name": "python",
   "nbconvert_exporter": "python",
   "pygments_lexer": "ipython3",
   "version": "3.10.0"
  },
  "orig_nbformat": 4
 },
 "nbformat": 4,
 "nbformat_minor": 2
}
