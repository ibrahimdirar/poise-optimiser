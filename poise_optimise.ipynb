{
 "cells": [
  {
   "cell_type": "code",
   "execution_count": 11,
   "metadata": {},
   "outputs": [],
   "source": [
    "from dataclasses import dataclass\n",
    "import pulp\n",
    "import pandas as pd\n",
    "import yaml\n",
    "\n",
    "@dataclass\n",
    "class Armor:\n",
    "    poise: int\n",
    "    weight: float\n",
    "    name: str\n",
    "    location: str = None\n",
    "    _var = None\n",
    "\n",
    "    @property\n",
    "    def var(self):\n",
    "        if self._var is None:\n",
    "            self._var = pulp.LpVariable(self.name, 0, 1, pulp.LpInteger)\n",
    "        return self._var\n",
    "\n",
    "\n",
    "def get_armor_from_pickle(armor_type):\n",
    "    df = pd.read_pickle(f\"{armor_type}.pkl\")\n",
    "    df[\"Poise\"] = pd.to_numeric(df[\"Poise\"], errors='coerce')\n",
    "    df[\"Wgt.\"] = pd.to_numeric(df[\"Wgt.\"], errors='coerce')\n",
    "    df.fillna(0, inplace=True)\n",
    "    return [Armor(name = armor[\"Name\"], poise=armor[\"Poise\"], weight=armor[\"Wgt.\"], location=armor[\"How to Acquire\"] ) for armor in df.to_dict(orient='records')]\n",
    "\n",
    "\n",
    "def solve(weight_limit, my_armors_only = False):\n",
    "    prob = pulp.LpProblem(\"all_armors\", pulp.LpMaximize)\n",
    "\n",
    "    armor_types = [\"head\", \"chest\", \"arms\", \"legs\"]\n",
    "    if my_armors_only:\n",
    "        with open('armor_values.yaml') as f:\n",
    "            my_armors = yaml.load(f, Loader=yaml.Loader)\n",
    "        typed_armor_lists = [[Armor(**armor) for armor in my_armors[armor_type]] for armor_type in armor_types]\n",
    "    else:\n",
    "        typed_armor_lists = [get_armor_from_pickle(armor_type) for armor_type in armor_types]\n",
    "\n",
    "    # flatten list of lists into one big list\n",
    "    armors = sum(typed_armor_lists, [])\n",
    "\n",
    "    # limiting solution to max one of each armor type\n",
    "    for armor_list in typed_armor_lists:\n",
    "        prob += sum([a.var for a in armor_list]) <= 1.0\n",
    "\n",
    "    # weight within limit\n",
    "    weight = sum([armor.weight * armor.var for armor in armors])\n",
    "    prob += weight <= weight_limit\n",
    "\n",
    "    # maximise poise\n",
    "    poise = sum([armor.poise * armor.var for armor in armors])\n",
    "    prob += poise\n",
    "\n",
    "    prob.solve(pulp.PULP_CBC_CMD(msg=0))\n",
    "\n",
    "\n",
    "    print(\"Name - Poise - Weight \")\n",
    "\n",
    "    for a in armors:\n",
    "        if pulp.value(a.var) > 0:\n",
    "            print(a.name, \"-\", a.poise, \"-\", a.weight)\n",
    "\n",
    "    print(\"Total - \", pulp.value(poise), \"-\", pulp.value(weight))\n",
    "\n",
    "    "
   ]
  },
  {
   "cell_type": "code",
   "execution_count": 12,
   "metadata": {},
   "outputs": [
    {
     "name": "stdout",
     "output_type": "stream",
     "text": [
      "Name - Poise - Weight \n",
      "Knight Armor - 19 - 10.6\n",
      "Beast Champion Greaves - 17 - 10.8\n",
      "Total -  36.0 - 21.4\n"
     ]
    }
   ],
   "source": [
    "solve(weight_limit=21.6, my_armors_only=True)"
   ]
  }
 ],
 "metadata": {
  "interpreter": {
   "hash": "949777d72b0d2535278d3dc13498b2535136f6dfe0678499012e853ee9abcab1"
  },
  "kernelspec": {
   "display_name": "Python 3.10.0 64-bit",
   "language": "python",
   "name": "python3"
  },
  "language_info": {
   "codemirror_mode": {
    "name": "ipython",
    "version": 3
   },
   "file_extension": ".py",
   "mimetype": "text/x-python",
   "name": "python",
   "nbconvert_exporter": "python",
   "pygments_lexer": "ipython3",
   "version": "3.10.0"
  },
  "orig_nbformat": 4
 },
 "nbformat": 4,
 "nbformat_minor": 2
}
