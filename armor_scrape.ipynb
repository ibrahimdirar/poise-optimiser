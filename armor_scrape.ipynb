{
 "cells": [
  {
   "cell_type": "code",
   "execution_count": 8,
   "metadata": {},
   "outputs": [],
   "source": [
    "import pandas as pd\n",
    "from bs4 import BeautifulSoup\n",
    "import requests\n",
    "\n",
    "urls = {\"head\": r\"https://eldenring.wiki.fextralife.com/Helms\",\n",
    "\"chest\" : r\"https://eldenring.wiki.fextralife.com/Chest+Armor\",\n",
    "\"arms\" : r\"https://eldenring.wiki.fextralife.com/Gauntlets\",\n",
    "\"legs\" : r\"https://eldenring.wiki.fextralife.com/Leg+Armor\"}\n",
    "\n",
    "for armor_type, url in urls.items():  \n",
    "    page = requests.get(url)\n",
    "    soup = BeautifulSoup(page.content, \"html.parser\")\n",
    "    table = soup.find(\"table\", {\"class\":\"wiki_table sortable searchable\"})\n",
    "    df = pd.read_html(table.prettify())[0]\n",
    "    df.to_pickle(f\"{armor_type}.pkl\")"
   ]
  }
 ],
 "metadata": {
  "interpreter": {
   "hash": "949777d72b0d2535278d3dc13498b2535136f6dfe0678499012e853ee9abcab1"
  },
  "kernelspec": {
   "display_name": "Python 3.10.0 64-bit",
   "language": "python",
   "name": "python3"
  },
  "language_info": {
   "codemirror_mode": {
    "name": "ipython",
    "version": 3
   },
   "file_extension": ".py",
   "mimetype": "text/x-python",
   "name": "python",
   "nbconvert_exporter": "python",
   "pygments_lexer": "ipython3",
   "version": "3.10.0"
  },
  "orig_nbformat": 4
 },
 "nbformat": 4,
 "nbformat_minor": 2
}
